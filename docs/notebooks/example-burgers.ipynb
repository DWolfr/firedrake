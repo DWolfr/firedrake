{
 "cells": [
  {
   "cell_type": "markdown",
   "metadata": {},
   "source": [
    "# A time-dependent problem, Burgers' equation\n",
    "\n",
    "We will solve the viscous Burgers equation, a nonlinear equation for the advection and diffusion on momentum in one dimension.\n",
    "\n",
    "$$\n",
    "\\frac{\\partial u}{\\partial t} + u \\frac{\\partial u}{\\partial x} - \\nu \\frac{\\partial^2 u}{\\partial x^2} = 0\n",
    "$$\n",
    "\n",
    "We will solve on a periodic interval mesh, and therefore do not impose any boundary conditions.  As usual, we need to derive a variational form.\n",
    "\n",
    "## Spatial discretisation\n",
    "\n",
    "We first discretise in space, mulitplying by a test function $v \\in V$ and integrating the viscosity term by parts to obtain the semi-discrete problem. Find $u(x, t) \\in V$ such that\n",
    "\n",
    "$$\n",
    "\\int_\\Omega \\frac{\\partial u}{\\partial t} v + u \\frac{\\partial u}{\\partial x} v + \\nu \\frac{\\partial u}{\\partial x}\\frac{\\partial v}{\\partial x} \\, \\mathrm{d}x = 0 \\quad \\forall v \\in V.\n",
    "$$\n",
    "\n",
    "## Time discretisation\n",
    "We now need to discretise in time.  For simplicity, and stability we'll use backward Euler, replacing all instances of $u$ with $u^{n+1}$ and the time derivative by $\\frac{u^{n+1} - u^n}{\\Delta t}$.  We end up with the discrete problem, find $u^{n+1} \\in V$ such that\n",
    "\n",
    "$$\n",
    "\\int_\\Omega \\frac{u^{n+1} - u^n}{\\Delta t} v + u^{n+1} \\frac{\\partial u^{n+1}}{\\partial x} v + \\nu \\frac{\\partial u^{n+1}}{\\partial x}\\frac{\\partial v}{\\partial x} \\, \\mathrm{d}x = 0 \\quad \\forall v \\in V.\n",
    "$$\n",
    "\n"
   ]
  },
  {
   "cell_type": "markdown",
   "metadata": {},
   "source": [
    "## Implementation\n",
    "\n",
    "To solve the problem in a concrete setting, we need two things.  A domain, and an initial condition for $u$.  For the former, we'll choose a periodic interval of length 2, for the latter, we'll start with $u = \\sin(2 \\pi x)$.\n",
    "\n",
    "In addition we need to choose the viscosity, which we will set to a small constant value $\\nu = 10^{-2}$\n",
    "\n",
    "As ever, we begin by importing Firedrake"
   ]
  },
  {
   "cell_type": "code",
   "execution_count": 1,
   "metadata": {},
   "outputs": [],
   "source": [
    "%matplotlib inline\n",
    "from firedrake import *\n",
    "\n",
    "n = 100\n",
    "mesh = PeriodicIntervalMesh(n, length=2)\n",
    "\n",
    "x = SpatialCoordinate(mesh)[0]\n",
    "\n",
    "u_init = sin(2*pi*x)"
   ]
  },
  {
   "cell_type": "code",
   "execution_count": 2,
   "metadata": {
    "collapsed": true
   },
   "outputs": [],
   "source": [
    "nu = Constant(1e-2)"
   ]
  },
  {
   "cell_type": "markdown",
   "metadata": {},
   "source": [
    "We choose degree 2 piecewise continuous Lagrange polynomials for our solution and test space:"
   ]
  },
  {
   "cell_type": "code",
   "execution_count": 3,
   "metadata": {
    "collapsed": true
   },
   "outputs": [],
   "source": [
    "V = FunctionSpace(mesh, \"Lagrange\", 2)"
   ]
  },
  {
   "cell_type": "markdown",
   "metadata": {},
   "source": [
    "We also need solution functions for $u^{n+1}$ and $u^n$, along with a test function $v$."
   ]
  },
  {
   "cell_type": "code",
   "execution_count": 4,
   "metadata": {
    "collapsed": true
   },
   "outputs": [],
   "source": [
    "u_n1 = Function(V, name=\"u^{n+1}\")\n",
    "u_n = Function(V, name=\"u^{n}\")\n",
    "v = TestFunction(V)"
   ]
  },
  {
   "cell_type": "markdown",
   "metadata": {},
   "source": [
    "We provide the initial condition for $u_n$, and choose a $\\Delta t$ such that the advective Courant number is around 1.  This is more restrictive than required for stability of the time integration, but gives us enough accuracy to see the temporal evolution of the system."
   ]
  },
  {
   "cell_type": "code",
   "execution_count": 5,
   "metadata": {},
   "outputs": [],
   "source": [
    "u_n.interpolate(u_init)\n",
    "dt = 1.0 / n"
   ]
  },
  {
   "cell_type": "markdown",
   "metadata": {},
   "source": [
    "Now we're ready to define the variational form.  Since this problem is nonlinear, note that we do not have a trial function anywhere.  We just write down the residual, Firedrake will automatically compute the Jacobian by differentiating the residual inside the nonlinear solver."
   ]
  },
  {
   "cell_type": "code",
   "execution_count": 6,
   "metadata": {},
   "outputs": [],
   "source": [
    "F = (((u_n1 - u_n)/dt) * v +\n",
    "     u_n1 * u_n1.dx(0) * v + \n",
    "     nu*u_n1.dx(0)*v.dx(0))*dx"
   ]
  },
  {
   "cell_type": "markdown",
   "metadata": {},
   "source": [
    "For visualisation purposes, we will save a copy of the state $u_n$ at each timestep, we can plot and animate these in the notebook if the `ipywidgets` package is installed."
   ]
  },
  {
   "cell_type": "code",
   "execution_count": 7,
   "metadata": {
    "collapsed": true
   },
   "outputs": [],
   "source": [
    "# If passed an existing Function object, the Function \n",
    "# constructor makes a copy.\n",
    "results = [Function(u_n)]"
   ]
  },
  {
   "cell_type": "markdown",
   "metadata": {},
   "source": [
    "Finally, we loop over the timesteps, solving the equation and advancing in time.\n"
   ]
  },
  {
   "cell_type": "code",
   "execution_count": 8,
   "metadata": {},
   "outputs": [],
   "source": [
    "t = 0.0\n",
    "t_end = 0.5\n",
    "while t <= t_end:\n",
    "    solve(F == 0, u_n1)\n",
    "    u_n.assign(u_n1)\n",
    "    results.append(Function(u_n))\n",
    "    t += dt"
   ]
  },
  {
   "cell_type": "markdown",
   "metadata": {},
   "source": [
    "This interactive plot should provide a slider that controls which iteration is plotted.  If you do not see it, it may be because you have not installed the necessary [ipython widgets](http://ipywidgets.readthedocs.io/en/latest/index.html).\n",
    "\n",
    "In the activated virtualenv in the terminal, you will need to do:\n",
    "\n",
    "```shell\n",
    "pip install ipywidgets\n",
    "jupyter nbextension enable --py widgetsnbextension --sys-prefix\n",
    "```\n",
    "\n",
    "and then restart the notebook kernel."
   ]
  },
  {
   "cell_type": "code",
   "execution_count": 9,
   "metadata": {},
   "outputs": [
    {
     "data": {
      "application/vnd.jupyter.widget-view+json": {
       "model_id": "f6c9d7b7630d4d42b0a06d1a46cbafc0"
      }
     },
     "metadata": {},
     "output_type": "display_data"
    },
    {
     "data": {
      "image/png": "[encoded data removed]",
      "text/plain": [
       "<matplotlib.figure.Figure at 0x116fb11d0>"
      ]
     },
     "metadata": {},
     "output_type": "display_data"
    }
   ],
   "source": [
    "# NBVAL_IGNORE_OUTPUT\n",
    "plot(results, interactive=True);"
   ]
  },
  {
   "cell_type": "markdown",
   "metadata": {},
   "source": [
    "## A faster implementation\n",
    "\n",
    "Although the code we wrote above works fine, it can be quite slow.  In particular, each call to `solve` necessitates rederiving the symbolic Jacobian, building new matrices and vectors and solver objects, using them once, and then destroying them.  To avoid this, we can create a solver object and reuse it.\n",
    "\n",
    "This is what the `solve` call does internally, only it then immediately discards all of this work.\n",
    "\n",
    "We start by creating a `NonlinearVariationalProblem` which gathers the information about the problem.  The residual, the solution variable, any boundary conditions, and so forth."
   ]
  },
  {
   "cell_type": "code",
   "execution_count": 10,
   "metadata": {
    "collapsed": true
   },
   "outputs": [],
   "source": [
    "problem = NonlinearVariationalProblem(F, u_n1)"
   ]
  },
  {
   "cell_type": "markdown",
   "metadata": {},
   "source": [
    "Now we create a `NonlinearVariationalSolver`.  Here we provide the problem to be solved, and any options to the solver.\n",
    "\n",
    "In this case, we will modify the solver options used, noting that in one dimension, an LU factorisation produces no fill and is, obviously, an exact solve."
   ]
  },
  {
   "cell_type": "code",
   "execution_count": 11,
   "metadata": {
    "collapsed": true
   },
   "outputs": [],
   "source": [
    "solver = NonlinearVariationalSolver(problem, solver_parameters={\"ksp_type\": \"preonly\",\n",
    "                                                                \"pc_type\": \"lu\"})"
   ]
  },
  {
   "cell_type": "markdown",
   "metadata": {},
   "source": [
    "Now we just write the time loop as before, but instead of writing `solve(F == 0, u_n1)`, we just call the `solve` method on our `solver` object."
   ]
  },
  {
   "cell_type": "code",
   "execution_count": 12,
   "metadata": {},
   "outputs": [],
   "source": [
    "t = 0\n",
    "t_end = 0.5\n",
    "while t <= t_end:\n",
    "    solver.solve()\n",
    "    u_n.assign(u_n1)\n",
    "    t += dt"
   ]
  },
  {
   "cell_type": "markdown",
   "metadata": {},
   "source": [
    "## Exercise 1\n",
    "\n",
    "Compare the speed of the two implementation choices on a mesh with 1000 elements.\n",
    "\n",
    "- Hint: You can use the \"notebook magic\" `%%timeit` to time the execution of a notebook cell."
   ]
  },
  {
   "cell_type": "code",
   "execution_count": null,
   "metadata": {
    "collapsed": true
   },
   "outputs": [],
   "source": []
  },
  {
   "cell_type": "markdown",
   "metadata": {},
   "source": [
    "## Exercise 2\n",
    "\n",
    "Implement Crank-Nicolson timestepping instead of backward Euler.\n",
    "\n",
    "- Hint 1: The Crank-Nicolson scheme writes:\n",
    "\n",
    "   $$\\frac{\\partial u}{\\partial t} + G(u) = 0$$\n",
    "\n",
    "  as\n",
    "\n",
    "  $$ \\frac{u^{n+1} - u^n}{\\Delta t} + \\frac{1}{2}\\left[G(u^{n+1}) + G(u^n)\\right] = 0$$\n",
    "\n",
    "\n",
    "- Hint 2: It might be convenient to write a python function that returns $G(u)$ given a $u$."
   ]
  },
  {
   "cell_type": "code",
   "execution_count": null,
   "metadata": {
    "collapsed": true
   },
   "outputs": [],
   "source": []
  }
 ],
 "metadata": {
  "kernelspec": {
   "display_name": "Python 3",
   "language": "python",
   "name": "python3"
  },
  "language_info": {
   "codemirror_mode": {
    "name": "ipython",
    "version": 3
   },
   "file_extension": ".py",
   "mimetype": "text/x-python",
   "name": "python",
   "nbconvert_exporter": "python",
   "pygments_lexer": "ipython3",
   "version": "3.6.1"
  }
 },
 "nbformat": 4,
 "nbformat_minor": 1
}
